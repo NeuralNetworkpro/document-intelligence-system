{
 "cells": [
  {
   "cell_type": "code",
   "execution_count": 1,
   "id": "d11b1d82",
   "metadata": {},
   "outputs": [],
   "source": [
    "from langchain.agents import initialize_agent, Tool\n",
    "import os\n",
    "from langchain_google_genai import ChatGoogleGenerativeAI,GoogleGenerativeAIEmbeddings\n",
    "from dotenv import load_dotenv"
   ]
  },
  {
   "cell_type": "code",
   "execution_count": 2,
   "id": "a8a49bb8",
   "metadata": {},
   "outputs": [],
   "source": [
    "# Load environment variables\n",
    "load_dotenv()\n",
    "google_api_key = os.getenv(\"GOOGLE_API_KEY\")"
   ]
  },
  {
   "cell_type": "code",
   "execution_count": 3,
   "id": "53d63450",
   "metadata": {},
   "outputs": [],
   "source": [
    "# Initialize the model\n",
    "llm = ChatGoogleGenerativeAI(model=\"models/gemini-2.5-flash-preview-05-20\", google_api_key=google_api_key)"
   ]
  },
  {
   "cell_type": "code",
   "execution_count": 4,
   "id": "dc20a8dd",
   "metadata": {},
   "outputs": [
    {
     "name": "stdout",
     "output_type": "stream",
     "text": [
      "The capital of France is **Paris**.\n"
     ]
    }
   ],
   "source": [
    "# Ask the question\n",
    "response = llm.invoke(\"What is the capital of France?\")\n",
    "print(response.content)\n"
   ]
  },
  {
   "cell_type": "code",
   "execution_count": null,
   "id": "38e6a91f",
   "metadata": {},
   "outputs": [],
   "source": [
    "# Initialize the Gemini Embeddings model\n",
    "embeddings = GoogleGenerativeAIEmbeddings(\n",
    "    model=\"models/embedding-001\"\n",
    "    # model=\"models/gemini-embedding-exp-03-07\",       \n",
    "    google_api_key=google_api_key\n",
    ")"
   ]
  },
  {
   "cell_type": "code",
   "execution_count": 8,
   "id": "06bb4dc2",
   "metadata": {},
   "outputs": [
    {
     "name": "stderr",
     "output_type": "stream",
     "text": [
      "<>:1: SyntaxWarning: invalid escape sequence '\\q'\n",
      "<>:1: SyntaxWarning: invalid escape sequence '\\q'\n",
      "/var/folders/rh/twl5vzwd1hg93r5qdghwpy6r0000gn/T/ipykernel_21271/4114141851.py:1: SyntaxWarning: invalid escape sequence '\\q'\n",
      "  text=\"\"\"\n"
     ]
    }
   ],
   "source": [
    "text=\"\"\"\n",
    "\n",
    "# B・BASF \n",
    "\n",
    "We create chemistry\n",
    "\n",
    "Table of Contents\n",
    "Vitamin E Acetate Pharma\n",
    "Date: 26 Jul 2024\n",
    "$30777580$\n",
    "® $=$ Registered trademark of BASF $\\quad{ }^{\\mathrm{TM}}=$ Trademark of BASF\n",
    "\n",
    "## Table of Contents\n",
    "\n",
    "Dear customer, based on your request we send you information about the product Vitamin E Acetate Pharma:\n",
    "\n",
    "Elemental Impurities Data (ICH Q3D) - Statements (en)\n",
    "\n",
    "# EI-BASF \n",
    "\n",
    "We create chemistry\n",
    "\n",
    "## Vitamin E Acetate Pharma\n",
    "\n",
    "## Elemental Impurities Data (ICH Q3D)\n",
    "\n",
    "Dear Sir / Madam,\n",
    "BASF is pleased to provide the attached elemental impurity information including data on three individual, commercial production batches in analogy to the ICH Q3D approach. In order to fulfill your need for excellence in customer support, BASF has chosen to invest significant resources into screening and validating of analytical methods for all ICH Q3D elements in class 1, 2A, and 3. Any class 2B elements which are intentionally added in BASF's manufacturing process are tested as well. All data were obtained via a validated ICP-MS method.\n",
    "\n",
    "The attached analytical report is intended to support your risk assessment and control strategy for the concerned finished drug product. In certain cases, this data could enable the use of a component approach to testing, although ICH Q3D places the responsibility of obtaining elemental impurity data on finished product manufactures - not API or excipient suppliers.\n",
    "\n",
    "We are convinced that our elemental impurity information provides a significant added-value and again demonstrates BASF's commitment to being a leading supplier to the pharma industry.\n",
    "We sincerely appreciate your business and look forward to continuing to service your needs in the future.\n",
    "\n",
    "# Vitamin E Acetate Pharma \n",
    "\n",
    "## RegXcellence ${ }^{\\circledR}$\n",
    "\n",
    "PRD-No.: 30777580\n",
    "Elemental Impurities Data (ICH Q3D)\n",
    "\n",
    "| Element <br> (Method: ICP-MS) | Class | Batch <br> 01251929U0 | Batch <br> 26093247G0 | Batch <br> 35048209T0 |  |\n",
    "| :--: | :--: | :--: | :--: | :--: | :--: |\n",
    "| BASF contract no.: |  | 22P00058 | 22P00058 | 22P00250 |  |\n",
    "| Cadmium | Cd | 1 | $<0.05$ | $<0.05$ | $<0.05$ |\n",
    "| Lead | Pb | 1 | $<0.05$ | $<0.05$ | $<0.05$ |\n",
    "| Arsenic | As | 1 | $<0.05$ | $<0.05$ | $<0.05$ |\n",
    "| Mercury | Hg | 1 | $<0.05$ | $<0.05$ | $<0.05$ |\n",
    "| Cobalt | Co | 2A | $<0.05$ | $<0.05$ | $<0.05$ |\n",
    "| Vanadium | V | 2A | $<0.05$ | $<0.05$ | $<0.05$ |\n",
    "| Nickel | Ni | 2A | 0.08 | $<0.05$ | 0.10 |\n",
    "| Thallium | TI | 2B | not measured | not measured | not measured |\n",
    "| Gold | Au | 2B | not measured | not measured | not measured |\n",
    "| Palladium | Pd | 2B | not measured | not measured | not measured |\n",
    "| Iridium | Ir | 2B | not measured | not measured | not measured |\n",
    "| Osmium | Os | 2B | not measured | not measured | not measured |\n",
    "| Rhodium | Rh | 2B | not measured | not measured | not measured |\n",
    "| Ruthenium | Ru | 2B | not measured | not measured | not measured |\n",
    "| Selenium | Se | 2B | not measured | not measured | not measured |\n",
    "| Silver | Ag | 2B | not measured | not measured | not measured |\n",
    "| Platinum | Pt | 2B | not measured | not measured | not measured |\n",
    "| Lithium | Li | 3 | $<0.3$ | $<0.3$ | $<0.3$ |\n",
    "| Antimony | Sb | 3 | $<0.3$ | $<0.3$ | $<0.3$ |\n",
    "| Barium | Ba | 3 | $<0.3$ | $<0.3$ | $<0.3$ |\n",
    "| Molybdenum | Mo | 3 | $<0.05$ | $<0.05$ | $<0.05$ |\n",
    "| Copper | Cu | 3 | $<0.3$ | $<0.3$ | $<0.3$ |\n",
    "| Tin | Sn | 3 | $<0.3$ | $<0.3$ | $<0.3$ |\n",
    "| Chromium | Cr | 3 | $<0.05$ | $<0.05$ | $<0.05$ |\n",
    "\n",
    "[^0]\n",
    "[^0]:    Stating a less-than (<) sign indicates less-than (<) LOQ\n",
    "    The indication \"not measured\" means that no testing was performed as the element is not intentionally added in BASF's manufacturing process\n",
    "\n",
    "# 11. BASF \n",
    "\n",
    "We create chemistry\n",
    "\n",
    "## Vitamin E Acetate Pharma\n",
    "\n",
    "The concentration of the tested elements in Vitamin E Acetate Pharma were below the parenteral concentration limit indicated in Table A.2.2 of ICH Q3D. Please note that references are explicitly made to the concentration limit and does not automatically imply that the product is intended for parenteral use.\n",
    "\n",
    "Please note that no elements of Table A.2.2 of the aforementioned guideline have been intentionally added in BASF's manufacturing process of Vitamin E Acetate Pharma.\n",
    "\n",
    "We ensure compliance of our pharmaceutical ingredients with all relevant regulatory requirements for metal impurities such as current versions of applicable pharmacopeias.\n",
    "\n",
    "# 11. BASF \n",
    "\n",
    "We create chemistry\n",
    "\n",
    "## Vitamin E Acetate Pharma\n",
    "\n",
    "PRD-No.: 30777580\n",
    "Elemental Impurities Data (ICH Q3D)\n",
    "\n",
    "This document, or any information provided herein does not constitute a legally binding obligation of BASF and has been prepared in good faith and is believed to be accurate as of the date of issuance. Unless expressly agreed otherwise in writing in a supply contract or other written agreement between you and BASF:\n",
    "(a) To the fullest extent not prohibited by the applicable laws, BASF EXPRESSLY DISCLAIMS ALL OTHER REPRESENTATIONS, WARRANTIES, CONDITIONS OR GUARANTEES OF ANY KIND, WHETHER EXPRESS OR IMPLIED, WRITTEN OR ORAL, BY FACT OR LAW, INCLUDING ANY IMPLIED WARRANTIES, REPRESENTATIONS OR CONDITIONS OF MERCHANTABILITY, FITNESS FOR A PARTICULAR PURPOSE, SATISFACTORY QUALITY, NON-INFRINGEMENT, AND ANY REPRESENTATIONS, WARRANTIES, CONDITIONS OR GUARANTEES, ARISING FROM STATUTE, COURSE OF DEALING OR USAGE OF TRADE and BASF HEREBY EXPRESSLY EXCLUDES AND DISCLAIMS ANY LIABILITY RESULTING FROM OR IN CONNECTION WITH THIS DOCUMENT OR ANY INFORMATION PROVIDED HEREIN, including, without limitation, any liability for any direct, consequential, special, or punitive damages relating to or arising therefrom, except in cases of\n",
    "(i) death or personal injury to the extent caused by BASF's sole negligence,\n",
    "(ii) BASF's willful misconduct, fraud or fraudulent misrepresentation or\n",
    "(iii) any matter in respect of which it would be unlawful for BASF to exclude or restrict liability under the applicable laws;\n",
    "(b) Any information provided herein can be changed at BASF's sole discretion anytime and neither this document nor the information provided herein may be relied upon to satisfy from any and all obligations you may have to undertake your own inspections and evaluations;\n",
    "(c) BASF rejects any obligation to, and will not, automatically update this document and any information provided herein, unless required by applicable law; and\n",
    "(d) The user is responsible for confirming that the user has retrieved the most current version of this document from BASF as appropriate\n",
    "\n",
    " \"\"\""
   ]
  },
  {
   "cell_type": "code",
   "execution_count": 9,
   "id": "bac84658",
   "metadata": {},
   "outputs": [
    {
     "data": {
      "text/plain": [
       "'\\n\\n# B・BASF \\n\\nWe create chemistry\\n\\nTable of Contents\\nVitamin E Acetate Pharma\\nDate: 26 Jul 2024\\n$30777580$\\n® $=$ Registered trademark of BASF $\\\\quad{ }^{\\\\mathrm{TM}}=$ Trademark of BASF\\n\\n## Table of Contents\\n\\nDear customer, based on your request we send you information about the product Vitamin E Acetate Pharma:\\n\\nElemental Impurities Data (ICH Q3D) - Statements (en)\\n\\n# EI-BASF \\n\\nWe create chemistry\\n\\n## Vitamin E Acetate Pharma\\n\\n## Elemental Impurities Data (ICH Q3D)\\n\\nDear Sir / Madam,\\nBASF is pleased to provide the attached elemental impurity information including data on three individual, commercial production batches in analogy to the ICH Q3D approach. In order to fulfill your need for excellence in customer support, BASF has chosen to invest significant resources into screening and validating of analytical methods for all ICH Q3D elements in class 1, 2A, and 3. Any class 2B elements which are intentionally added in BASF\\'s manufacturing process are tested as well. All data were obtained via a validated ICP-MS method.\\n\\nThe attached analytical report is intended to support your risk assessment and control strategy for the concerned finished drug product. In certain cases, this data could enable the use of a component approach to testing, although ICH Q3D places the responsibility of obtaining elemental impurity data on finished product manufactures - not API or excipient suppliers.\\n\\nWe are convinced that our elemental impurity information provides a significant added-value and again demonstrates BASF\\'s commitment to being a leading supplier to the pharma industry.\\nWe sincerely appreciate your business and look forward to continuing to service your needs in the future.\\n\\n# Vitamin E Acetate Pharma \\n\\n## RegXcellence ${ }^{\\\\circledR}$\\n\\nPRD-No.: 30777580\\nElemental Impurities Data (ICH Q3D)\\n\\n| Element <br> (Method: ICP-MS) | Class | Batch <br> 01251929U0 | Batch <br> 26093247G0 | Batch <br> 35048209T0 |  |\\n| :--: | :--: | :--: | :--: | :--: | :--: |\\n| BASF contract no.: |  | 22P00058 | 22P00058 | 22P00250 |  |\\n| Cadmium | Cd | 1 | $<0.05$ | $<0.05$ | $<0.05$ |\\n| Lead | Pb | 1 | $<0.05$ | $<0.05$ | $<0.05$ |\\n| Arsenic | As | 1 | $<0.05$ | $<0.05$ | $<0.05$ |\\n| Mercury | Hg | 1 | $<0.05$ | $<0.05$ | $<0.05$ |\\n| Cobalt | Co | 2A | $<0.05$ | $<0.05$ | $<0.05$ |\\n| Vanadium | V | 2A | $<0.05$ | $<0.05$ | $<0.05$ |\\n| Nickel | Ni | 2A | 0.08 | $<0.05$ | 0.10 |\\n| Thallium | TI | 2B | not measured | not measured | not measured |\\n| Gold | Au | 2B | not measured | not measured | not measured |\\n| Palladium | Pd | 2B | not measured | not measured | not measured |\\n| Iridium | Ir | 2B | not measured | not measured | not measured |\\n| Osmium | Os | 2B | not measured | not measured | not measured |\\n| Rhodium | Rh | 2B | not measured | not measured | not measured |\\n| Ruthenium | Ru | 2B | not measured | not measured | not measured |\\n| Selenium | Se | 2B | not measured | not measured | not measured |\\n| Silver | Ag | 2B | not measured | not measured | not measured |\\n| Platinum | Pt | 2B | not measured | not measured | not measured |\\n| Lithium | Li | 3 | $<0.3$ | $<0.3$ | $<0.3$ |\\n| Antimony | Sb | 3 | $<0.3$ | $<0.3$ | $<0.3$ |\\n| Barium | Ba | 3 | $<0.3$ | $<0.3$ | $<0.3$ |\\n| Molybdenum | Mo | 3 | $<0.05$ | $<0.05$ | $<0.05$ |\\n| Copper | Cu | 3 | $<0.3$ | $<0.3$ | $<0.3$ |\\n| Tin | Sn | 3 | $<0.3$ | $<0.3$ | $<0.3$ |\\n| Chromium | Cr | 3 | $<0.05$ | $<0.05$ | $<0.05$ |\\n\\n[^0]\\n[^0]:    Stating a less-than (<) sign indicates less-than (<) LOQ\\n    The indication \"not measured\" means that no testing was performed as the element is not intentionally added in BASF\\'s manufacturing process\\n\\n# 11. BASF \\n\\nWe create chemistry\\n\\n## Vitamin E Acetate Pharma\\n\\nThe concentration of the tested elements in Vitamin E Acetate Pharma were below the parenteral concentration limit indicated in Table A.2.2 of ICH Q3D. Please note that references are explicitly made to the concentration limit and does not automatically imply that the product is intended for parenteral use.\\n\\nPlease note that no elements of Table A.2.2 of the aforementioned guideline have been intentionally added in BASF\\'s manufacturing process of Vitamin E Acetate Pharma.\\n\\nWe ensure compliance of our pharmaceutical ingredients with all relevant regulatory requirements for metal impurities such as current versions of applicable pharmacopeias.\\n\\n# 11. BASF \\n\\nWe create chemistry\\n\\n## Vitamin E Acetate Pharma\\n\\nPRD-No.: 30777580\\nElemental Impurities Data (ICH Q3D)\\n\\nThis document, or any information provided herein does not constitute a legally binding obligation of BASF and has been prepared in good faith and is believed to be accurate as of the date of issuance. Unless expressly agreed otherwise in writing in a supply contract or other written agreement between you and BASF:\\n(a) To the fullest extent not prohibited by the applicable laws, BASF EXPRESSLY DISCLAIMS ALL OTHER REPRESENTATIONS, WARRANTIES, CONDITIONS OR GUARANTEES OF ANY KIND, WHETHER EXPRESS OR IMPLIED, WRITTEN OR ORAL, BY FACT OR LAW, INCLUDING ANY IMPLIED WARRANTIES, REPRESENTATIONS OR CONDITIONS OF MERCHANTABILITY, FITNESS FOR A PARTICULAR PURPOSE, SATISFACTORY QUALITY, NON-INFRINGEMENT, AND ANY REPRESENTATIONS, WARRANTIES, CONDITIONS OR GUARANTEES, ARISING FROM STATUTE, COURSE OF DEALING OR USAGE OF TRADE and BASF HEREBY EXPRESSLY EXCLUDES AND DISCLAIMS ANY LIABILITY RESULTING FROM OR IN CONNECTION WITH THIS DOCUMENT OR ANY INFORMATION PROVIDED HEREIN, including, without limitation, any liability for any direct, consequential, special, or punitive damages relating to or arising therefrom, except in cases of\\n(i) death or personal injury to the extent caused by BASF\\'s sole negligence,\\n(ii) BASF\\'s willful misconduct, fraud or fraudulent misrepresentation or\\n(iii) any matter in respect of which it would be unlawful for BASF to exclude or restrict liability under the applicable laws;\\n(b) Any information provided herein can be changed at BASF\\'s sole discretion anytime and neither this document nor the information provided herein may be relied upon to satisfy from any and all obligations you may have to undertake your own inspections and evaluations;\\n(c) BASF rejects any obligation to, and will not, automatically update this document and any information provided herein, unless required by applicable law; and\\n(d) The user is responsible for confirming that the user has retrieved the most current version of this document from BASF as appropriate\\n\\n '"
      ]
     },
     "execution_count": 9,
     "metadata": {},
     "output_type": "execute_result"
    }
   ],
   "source": [
    "text"
   ]
  },
  {
   "cell_type": "code",
   "execution_count": 20,
   "id": "35f3e9d4",
   "metadata": {},
   "outputs": [],
   "source": [
    "from langchain.text_splitter import RecursiveCharacterTextSplitter\n",
    "import os\n",
    "from langchain_google_genai import ChatGoogleGenerativeAI,GoogleGenerativeAIEmbeddings\n",
    "\n",
    "from langchain_core.prompts import PromptTemplate"
   ]
  },
  {
   "cell_type": "code",
   "execution_count": 12,
   "id": "a427c72d",
   "metadata": {},
   "outputs": [],
   "source": [
    "# Step 1b - Indexing (Text Splitting)\n",
    "splitter = RecursiveCharacterTextSplitter(chunk_size=1000, chunk_overlap=200)\n",
    "chunks = splitter.create_documents([text])"
   ]
  },
  {
   "cell_type": "code",
   "execution_count": 13,
   "id": "34d190af",
   "metadata": {},
   "outputs": [
    {
     "data": {
      "text/plain": [
       "10"
      ]
     },
     "execution_count": 13,
     "metadata": {},
     "output_type": "execute_result"
    }
   ],
   "source": [
    "len(chunks)"
   ]
  },
  {
   "cell_type": "code",
   "execution_count": 15,
   "id": "bcabb421",
   "metadata": {},
   "outputs": [
    {
     "data": {
      "text/plain": [
       "Document(metadata={}, page_content=\"(i) death or personal injury to the extent caused by BASF's sole negligence,\\n(ii) BASF's willful misconduct, fraud or fraudulent misrepresentation or\\n(iii) any matter in respect of which it would be unlawful for BASF to exclude or restrict liability under the applicable laws;\\n(b) Any information provided herein can be changed at BASF's sole discretion anytime and neither this document nor the information provided herein may be relied upon to satisfy from any and all obligations you may have to undertake your own inspections and evaluations;\\n(c) BASF rejects any obligation to, and will not, automatically update this document and any information provided herein, unless required by applicable law; and\\n(d) The user is responsible for confirming that the user has retrieved the most current version of this document from BASF as appropriate\")"
      ]
     },
     "execution_count": 15,
     "metadata": {},
     "output_type": "execute_result"
    }
   ],
   "source": [
    "chunks[9]"
   ]
  },
  {
   "cell_type": "code",
   "execution_count": 18,
   "id": "3a919736",
   "metadata": {},
   "outputs": [
    {
     "ename": "GoogleGenerativeAIError",
     "evalue": "Error embedding content: 429 Resource has been exhausted (e.g. check quota).",
     "output_type": "error",
     "traceback": [
      "\u001b[0;31m---------------------------------------------------------------------------\u001b[0m",
      "\u001b[0;31mResourceExhausted\u001b[0m                         Traceback (most recent call last)",
      "File \u001b[0;32m/opt/anaconda3/lib/python3.12/site-packages/langchain_google_genai/embeddings.py:228\u001b[0m, in \u001b[0;36mGoogleGenerativeAIEmbeddings.embed_documents\u001b[0;34m(self, texts, batch_size, task_type, titles, output_dimensionality)\u001b[0m\n\u001b[1;32m    227\u001b[0m \u001b[38;5;28;01mtry\u001b[39;00m:\n\u001b[0;32m--> 228\u001b[0m     result \u001b[38;5;241m=\u001b[39m \u001b[38;5;28mself\u001b[39m\u001b[38;5;241m.\u001b[39mclient\u001b[38;5;241m.\u001b[39mbatch_embed_contents(\n\u001b[1;32m    229\u001b[0m         BatchEmbedContentsRequest(requests\u001b[38;5;241m=\u001b[39mrequests, model\u001b[38;5;241m=\u001b[39m\u001b[38;5;28mself\u001b[39m\u001b[38;5;241m.\u001b[39mmodel)\n\u001b[1;32m    230\u001b[0m     )\n\u001b[1;32m    231\u001b[0m \u001b[38;5;28;01mexcept\u001b[39;00m \u001b[38;5;167;01mException\u001b[39;00m \u001b[38;5;28;01mas\u001b[39;00m e:\n",
      "File \u001b[0;32m/opt/anaconda3/lib/python3.12/site-packages/google/ai/generativelanguage_v1beta/services/generative_service/client.py:1436\u001b[0m, in \u001b[0;36mGenerativeServiceClient.batch_embed_contents\u001b[0;34m(self, request, model, requests, retry, timeout, metadata)\u001b[0m\n\u001b[1;32m   1435\u001b[0m \u001b[38;5;66;03m# Send the request.\u001b[39;00m\n\u001b[0;32m-> 1436\u001b[0m response \u001b[38;5;241m=\u001b[39m rpc(\n\u001b[1;32m   1437\u001b[0m     request,\n\u001b[1;32m   1438\u001b[0m     retry\u001b[38;5;241m=\u001b[39mretry,\n\u001b[1;32m   1439\u001b[0m     timeout\u001b[38;5;241m=\u001b[39mtimeout,\n\u001b[1;32m   1440\u001b[0m     metadata\u001b[38;5;241m=\u001b[39mmetadata,\n\u001b[1;32m   1441\u001b[0m )\n\u001b[1;32m   1443\u001b[0m \u001b[38;5;66;03m# Done; return the response.\u001b[39;00m\n",
      "File \u001b[0;32m/opt/anaconda3/lib/python3.12/site-packages/google/api_core/gapic_v1/method.py:131\u001b[0m, in \u001b[0;36m_GapicCallable.__call__\u001b[0;34m(self, timeout, retry, compression, *args, **kwargs)\u001b[0m\n\u001b[1;32m    129\u001b[0m     kwargs[\u001b[38;5;124m\"\u001b[39m\u001b[38;5;124mcompression\u001b[39m\u001b[38;5;124m\"\u001b[39m] \u001b[38;5;241m=\u001b[39m compression\n\u001b[0;32m--> 131\u001b[0m \u001b[38;5;28;01mreturn\u001b[39;00m wrapped_func(\u001b[38;5;241m*\u001b[39margs, \u001b[38;5;241m*\u001b[39m\u001b[38;5;241m*\u001b[39mkwargs)\n",
      "File \u001b[0;32m/opt/anaconda3/lib/python3.12/site-packages/google/api_core/retry/retry_unary.py:293\u001b[0m, in \u001b[0;36mRetry.__call__.<locals>.retry_wrapped_func\u001b[0;34m(*args, **kwargs)\u001b[0m\n\u001b[1;32m    290\u001b[0m sleep_generator \u001b[38;5;241m=\u001b[39m exponential_sleep_generator(\n\u001b[1;32m    291\u001b[0m     \u001b[38;5;28mself\u001b[39m\u001b[38;5;241m.\u001b[39m_initial, \u001b[38;5;28mself\u001b[39m\u001b[38;5;241m.\u001b[39m_maximum, multiplier\u001b[38;5;241m=\u001b[39m\u001b[38;5;28mself\u001b[39m\u001b[38;5;241m.\u001b[39m_multiplier\n\u001b[1;32m    292\u001b[0m )\n\u001b[0;32m--> 293\u001b[0m \u001b[38;5;28;01mreturn\u001b[39;00m retry_target(\n\u001b[1;32m    294\u001b[0m     target,\n\u001b[1;32m    295\u001b[0m     \u001b[38;5;28mself\u001b[39m\u001b[38;5;241m.\u001b[39m_predicate,\n\u001b[1;32m    296\u001b[0m     sleep_generator,\n\u001b[1;32m    297\u001b[0m     timeout\u001b[38;5;241m=\u001b[39m\u001b[38;5;28mself\u001b[39m\u001b[38;5;241m.\u001b[39m_timeout,\n\u001b[1;32m    298\u001b[0m     on_error\u001b[38;5;241m=\u001b[39mon_error,\n\u001b[1;32m    299\u001b[0m )\n",
      "File \u001b[0;32m/opt/anaconda3/lib/python3.12/site-packages/google/api_core/retry/retry_unary.py:153\u001b[0m, in \u001b[0;36mretry_target\u001b[0;34m(target, predicate, sleep_generator, timeout, on_error, exception_factory, **kwargs)\u001b[0m\n\u001b[1;32m    151\u001b[0m \u001b[38;5;28;01mexcept\u001b[39;00m \u001b[38;5;167;01mException\u001b[39;00m \u001b[38;5;28;01mas\u001b[39;00m exc:\n\u001b[1;32m    152\u001b[0m     \u001b[38;5;66;03m# defer to shared logic for handling errors\u001b[39;00m\n\u001b[0;32m--> 153\u001b[0m     _retry_error_helper(\n\u001b[1;32m    154\u001b[0m         exc,\n\u001b[1;32m    155\u001b[0m         deadline,\n\u001b[1;32m    156\u001b[0m         sleep,\n\u001b[1;32m    157\u001b[0m         error_list,\n\u001b[1;32m    158\u001b[0m         predicate,\n\u001b[1;32m    159\u001b[0m         on_error,\n\u001b[1;32m    160\u001b[0m         exception_factory,\n\u001b[1;32m    161\u001b[0m         timeout,\n\u001b[1;32m    162\u001b[0m     )\n\u001b[1;32m    163\u001b[0m     \u001b[38;5;66;03m# if exception not raised, sleep before next attempt\u001b[39;00m\n",
      "File \u001b[0;32m/opt/anaconda3/lib/python3.12/site-packages/google/api_core/retry/retry_base.py:212\u001b[0m, in \u001b[0;36m_retry_error_helper\u001b[0;34m(exc, deadline, next_sleep, error_list, predicate_fn, on_error_fn, exc_factory_fn, original_timeout)\u001b[0m\n\u001b[1;32m    207\u001b[0m     final_exc, source_exc \u001b[38;5;241m=\u001b[39m exc_factory_fn(\n\u001b[1;32m    208\u001b[0m         error_list,\n\u001b[1;32m    209\u001b[0m         RetryFailureReason\u001b[38;5;241m.\u001b[39mNON_RETRYABLE_ERROR,\n\u001b[1;32m    210\u001b[0m         original_timeout,\n\u001b[1;32m    211\u001b[0m     )\n\u001b[0;32m--> 212\u001b[0m     \u001b[38;5;28;01mraise\u001b[39;00m final_exc \u001b[38;5;28;01mfrom\u001b[39;00m \u001b[38;5;21;01msource_exc\u001b[39;00m\n\u001b[1;32m    213\u001b[0m \u001b[38;5;28;01mif\u001b[39;00m on_error_fn \u001b[38;5;129;01mis\u001b[39;00m \u001b[38;5;129;01mnot\u001b[39;00m \u001b[38;5;28;01mNone\u001b[39;00m:\n",
      "File \u001b[0;32m/opt/anaconda3/lib/python3.12/site-packages/google/api_core/retry/retry_unary.py:144\u001b[0m, in \u001b[0;36mretry_target\u001b[0;34m(target, predicate, sleep_generator, timeout, on_error, exception_factory, **kwargs)\u001b[0m\n\u001b[1;32m    143\u001b[0m \u001b[38;5;28;01mtry\u001b[39;00m:\n\u001b[0;32m--> 144\u001b[0m     result \u001b[38;5;241m=\u001b[39m target()\n\u001b[1;32m    145\u001b[0m     \u001b[38;5;28;01mif\u001b[39;00m inspect\u001b[38;5;241m.\u001b[39misawaitable(result):\n",
      "File \u001b[0;32m/opt/anaconda3/lib/python3.12/site-packages/google/api_core/timeout.py:130\u001b[0m, in \u001b[0;36mTimeToDeadlineTimeout.__call__.<locals>.func_with_timeout\u001b[0;34m(*args, **kwargs)\u001b[0m\n\u001b[1;32m    128\u001b[0m     kwargs[\u001b[38;5;124m\"\u001b[39m\u001b[38;5;124mtimeout\u001b[39m\u001b[38;5;124m\"\u001b[39m] \u001b[38;5;241m=\u001b[39m remaining_timeout\n\u001b[0;32m--> 130\u001b[0m \u001b[38;5;28;01mreturn\u001b[39;00m func(\u001b[38;5;241m*\u001b[39margs, \u001b[38;5;241m*\u001b[39m\u001b[38;5;241m*\u001b[39mkwargs)\n",
      "File \u001b[0;32m/opt/anaconda3/lib/python3.12/site-packages/google/api_core/grpc_helpers.py:78\u001b[0m, in \u001b[0;36m_wrap_unary_errors.<locals>.error_remapped_callable\u001b[0;34m(*args, **kwargs)\u001b[0m\n\u001b[1;32m     77\u001b[0m \u001b[38;5;28;01mexcept\u001b[39;00m grpc\u001b[38;5;241m.\u001b[39mRpcError \u001b[38;5;28;01mas\u001b[39;00m exc:\n\u001b[0;32m---> 78\u001b[0m     \u001b[38;5;28;01mraise\u001b[39;00m exceptions\u001b[38;5;241m.\u001b[39mfrom_grpc_error(exc) \u001b[38;5;28;01mfrom\u001b[39;00m \u001b[38;5;21;01mexc\u001b[39;00m\n",
      "\u001b[0;31mResourceExhausted\u001b[0m: 429 Resource has been exhausted (e.g. check quota).",
      "\nThe above exception was the direct cause of the following exception:\n",
      "\u001b[0;31mGoogleGenerativeAIError\u001b[0m                   Traceback (most recent call last)",
      "Cell \u001b[0;32mIn[18], line 3\u001b[0m\n\u001b[1;32m      1\u001b[0m \u001b[38;5;66;03m#Step 1c & 1d - Indexing (Embedding Generation and Storing in Vector Store)\u001b[39;00m\n\u001b[1;32m      2\u001b[0m \u001b[38;5;28;01mfrom\u001b[39;00m \u001b[38;5;21;01mlangchain\u001b[39;00m\u001b[38;5;21;01m.\u001b[39;00m\u001b[38;5;21;01mvectorstores\u001b[39;00m \u001b[38;5;28;01mimport\u001b[39;00m Chroma\n\u001b[0;32m----> 3\u001b[0m vector_store \u001b[38;5;241m=\u001b[39m Chroma\u001b[38;5;241m.\u001b[39mfrom_documents(chunks, embedding\u001b[38;5;241m=\u001b[39membeddings)\n",
      "File \u001b[0;32m/opt/anaconda3/lib/python3.12/site-packages/langchain_community/vectorstores/chroma.py:887\u001b[0m, in \u001b[0;36mChroma.from_documents\u001b[0;34m(cls, documents, embedding, ids, collection_name, persist_directory, client_settings, client, collection_metadata, **kwargs)\u001b[0m\n\u001b[1;32m    885\u001b[0m texts \u001b[38;5;241m=\u001b[39m [doc\u001b[38;5;241m.\u001b[39mpage_content \u001b[38;5;28;01mfor\u001b[39;00m doc \u001b[38;5;129;01min\u001b[39;00m documents]\n\u001b[1;32m    886\u001b[0m metadatas \u001b[38;5;241m=\u001b[39m [doc\u001b[38;5;241m.\u001b[39mmetadata \u001b[38;5;28;01mfor\u001b[39;00m doc \u001b[38;5;129;01min\u001b[39;00m documents]\n\u001b[0;32m--> 887\u001b[0m \u001b[38;5;28;01mreturn\u001b[39;00m \u001b[38;5;28mcls\u001b[39m\u001b[38;5;241m.\u001b[39mfrom_texts(\n\u001b[1;32m    888\u001b[0m     texts\u001b[38;5;241m=\u001b[39mtexts,\n\u001b[1;32m    889\u001b[0m     embedding\u001b[38;5;241m=\u001b[39membedding,\n\u001b[1;32m    890\u001b[0m     metadatas\u001b[38;5;241m=\u001b[39mmetadatas,\n\u001b[1;32m    891\u001b[0m     ids\u001b[38;5;241m=\u001b[39mids,\n\u001b[1;32m    892\u001b[0m     collection_name\u001b[38;5;241m=\u001b[39mcollection_name,\n\u001b[1;32m    893\u001b[0m     persist_directory\u001b[38;5;241m=\u001b[39mpersist_directory,\n\u001b[1;32m    894\u001b[0m     client_settings\u001b[38;5;241m=\u001b[39mclient_settings,\n\u001b[1;32m    895\u001b[0m     client\u001b[38;5;241m=\u001b[39mclient,\n\u001b[1;32m    896\u001b[0m     collection_metadata\u001b[38;5;241m=\u001b[39mcollection_metadata,\n\u001b[1;32m    897\u001b[0m     \u001b[38;5;241m*\u001b[39m\u001b[38;5;241m*\u001b[39mkwargs,\n\u001b[1;32m    898\u001b[0m )\n",
      "File \u001b[0;32m/opt/anaconda3/lib/python3.12/site-packages/langchain_community/vectorstores/chroma.py:843\u001b[0m, in \u001b[0;36mChroma.from_texts\u001b[0;34m(cls, texts, embedding, metadatas, ids, collection_name, persist_directory, client_settings, client, collection_metadata, **kwargs)\u001b[0m\n\u001b[1;32m    835\u001b[0m     \u001b[38;5;28;01mfrom\u001b[39;00m \u001b[38;5;21;01mchromadb\u001b[39;00m\u001b[38;5;21;01m.\u001b[39;00m\u001b[38;5;21;01mutils\u001b[39;00m\u001b[38;5;21;01m.\u001b[39;00m\u001b[38;5;21;01mbatch_utils\u001b[39;00m \u001b[38;5;28;01mimport\u001b[39;00m create_batches\n\u001b[1;32m    837\u001b[0m     \u001b[38;5;28;01mfor\u001b[39;00m batch \u001b[38;5;129;01min\u001b[39;00m create_batches(\n\u001b[1;32m    838\u001b[0m         api\u001b[38;5;241m=\u001b[39mchroma_collection\u001b[38;5;241m.\u001b[39m_client,  \u001b[38;5;66;03m# type: ignore[has-type]\u001b[39;00m\n\u001b[1;32m    839\u001b[0m         ids\u001b[38;5;241m=\u001b[39mids,\n\u001b[1;32m    840\u001b[0m         metadatas\u001b[38;5;241m=\u001b[39mmetadatas,  \u001b[38;5;66;03m# type: ignore[arg-type]\u001b[39;00m\n\u001b[1;32m    841\u001b[0m         documents\u001b[38;5;241m=\u001b[39mtexts,\n\u001b[1;32m    842\u001b[0m     ):\n\u001b[0;32m--> 843\u001b[0m         chroma_collection\u001b[38;5;241m.\u001b[39madd_texts(\n\u001b[1;32m    844\u001b[0m             texts\u001b[38;5;241m=\u001b[39mbatch[\u001b[38;5;241m3\u001b[39m] \u001b[38;5;28;01mif\u001b[39;00m batch[\u001b[38;5;241m3\u001b[39m] \u001b[38;5;28;01melse\u001b[39;00m [],\n\u001b[1;32m    845\u001b[0m             metadatas\u001b[38;5;241m=\u001b[39mbatch[\u001b[38;5;241m2\u001b[39m] \u001b[38;5;28;01mif\u001b[39;00m batch[\u001b[38;5;241m2\u001b[39m] \u001b[38;5;28;01melse\u001b[39;00m \u001b[38;5;28;01mNone\u001b[39;00m,  \u001b[38;5;66;03m# type: ignore[arg-type]\u001b[39;00m\n\u001b[1;32m    846\u001b[0m             ids\u001b[38;5;241m=\u001b[39mbatch[\u001b[38;5;241m0\u001b[39m],\n\u001b[1;32m    847\u001b[0m         )\n\u001b[1;32m    848\u001b[0m \u001b[38;5;28;01melse\u001b[39;00m:\n\u001b[1;32m    849\u001b[0m     chroma_collection\u001b[38;5;241m.\u001b[39madd_texts(texts\u001b[38;5;241m=\u001b[39mtexts, metadatas\u001b[38;5;241m=\u001b[39mmetadatas, ids\u001b[38;5;241m=\u001b[39mids)\n",
      "File \u001b[0;32m/opt/anaconda3/lib/python3.12/site-packages/langchain_community/vectorstores/chroma.py:277\u001b[0m, in \u001b[0;36mChroma.add_texts\u001b[0;34m(self, texts, metadatas, ids, **kwargs)\u001b[0m\n\u001b[1;32m    275\u001b[0m texts \u001b[38;5;241m=\u001b[39m \u001b[38;5;28mlist\u001b[39m(texts)\n\u001b[1;32m    276\u001b[0m \u001b[38;5;28;01mif\u001b[39;00m \u001b[38;5;28mself\u001b[39m\u001b[38;5;241m.\u001b[39m_embedding_function \u001b[38;5;129;01mis\u001b[39;00m \u001b[38;5;129;01mnot\u001b[39;00m \u001b[38;5;28;01mNone\u001b[39;00m:\n\u001b[0;32m--> 277\u001b[0m     embeddings \u001b[38;5;241m=\u001b[39m \u001b[38;5;28mself\u001b[39m\u001b[38;5;241m.\u001b[39m_embedding_function\u001b[38;5;241m.\u001b[39membed_documents(texts)\n\u001b[1;32m    278\u001b[0m \u001b[38;5;28;01mif\u001b[39;00m metadatas:\n\u001b[1;32m    279\u001b[0m     \u001b[38;5;66;03m# fill metadatas with empty dicts if somebody\u001b[39;00m\n\u001b[1;32m    280\u001b[0m     \u001b[38;5;66;03m# did not specify metadata for all texts\u001b[39;00m\n\u001b[1;32m    281\u001b[0m     length_diff \u001b[38;5;241m=\u001b[39m \u001b[38;5;28mlen\u001b[39m(texts) \u001b[38;5;241m-\u001b[39m \u001b[38;5;28mlen\u001b[39m(metadatas)\n",
      "File \u001b[0;32m/opt/anaconda3/lib/python3.12/site-packages/langchain_google_genai/embeddings.py:232\u001b[0m, in \u001b[0;36mGoogleGenerativeAIEmbeddings.embed_documents\u001b[0;34m(self, texts, batch_size, task_type, titles, output_dimensionality)\u001b[0m\n\u001b[1;32m    228\u001b[0m         result \u001b[38;5;241m=\u001b[39m \u001b[38;5;28mself\u001b[39m\u001b[38;5;241m.\u001b[39mclient\u001b[38;5;241m.\u001b[39mbatch_embed_contents(\n\u001b[1;32m    229\u001b[0m             BatchEmbedContentsRequest(requests\u001b[38;5;241m=\u001b[39mrequests, model\u001b[38;5;241m=\u001b[39m\u001b[38;5;28mself\u001b[39m\u001b[38;5;241m.\u001b[39mmodel)\n\u001b[1;32m    230\u001b[0m         )\n\u001b[1;32m    231\u001b[0m     \u001b[38;5;28;01mexcept\u001b[39;00m \u001b[38;5;167;01mException\u001b[39;00m \u001b[38;5;28;01mas\u001b[39;00m e:\n\u001b[0;32m--> 232\u001b[0m         \u001b[38;5;28;01mraise\u001b[39;00m GoogleGenerativeAIError(\u001b[38;5;124mf\u001b[39m\u001b[38;5;124m\"\u001b[39m\u001b[38;5;124mError embedding content: \u001b[39m\u001b[38;5;132;01m{\u001b[39;00me\u001b[38;5;132;01m}\u001b[39;00m\u001b[38;5;124m\"\u001b[39m) \u001b[38;5;28;01mfrom\u001b[39;00m \u001b[38;5;21;01me\u001b[39;00m\n\u001b[1;32m    233\u001b[0m     embeddings\u001b[38;5;241m.\u001b[39mextend([\u001b[38;5;28mlist\u001b[39m(e\u001b[38;5;241m.\u001b[39mvalues) \u001b[38;5;28;01mfor\u001b[39;00m e \u001b[38;5;129;01min\u001b[39;00m result\u001b[38;5;241m.\u001b[39membeddings])\n\u001b[1;32m    234\u001b[0m \u001b[38;5;28;01mreturn\u001b[39;00m embeddings\n",
      "\u001b[0;31mGoogleGenerativeAIError\u001b[0m: Error embedding content: 429 Resource has been exhausted (e.g. check quota)."
     ]
    }
   ],
   "source": [
    "#Step 1c & 1d - Indexing (Embedding Generation and Storing in Vector Store)\n",
    "from langchain.vectorstores import Chroma\n",
    "vector_store = Chroma.from_documents(chunks, embedding=embeddings)\n"
   ]
  },
  {
   "cell_type": "code",
   "execution_count": null,
   "id": "70e16d63",
   "metadata": {},
   "outputs": [],
   "source": [
    "embeddings = GoogleGenerativeAIEmbeddings(model=\"models/embedding-001\")\n",
    "\n",
    "vector_store = Chroma.from_documents(\n",
    "    documents=chunks,\n",
    "    embedding=embeddings,\n",
    "    collection_name=\"your_collection\",\n",
    "    persist_directory=\"./chroma_db\"\n",
    ")\n"
   ]
  },
  {
   "cell_type": "code",
   "execution_count": 22,
   "id": "1e311688",
   "metadata": {},
   "outputs": [
    {
     "name": "stdout",
     "output_type": "stream",
     "text": [
      "{'ids': ['accacc39-ec6a-4194-a12d-01f73afc63d3', 'e3416aa9-486f-4228-8980-7344f62fe345', '05464e1b-c18f-48d0-99c4-5cd292f123ea', 'aa0713fa-36f9-4824-a16c-4ed2bb9eaa63', 'f92c47a2-2e35-4c2b-b805-ca4533a7f4d0', 'f86bba34-76a3-407b-a1cb-8b5e3a9b985b', '834c7715-8c3c-4791-a5c3-bf7aeb20dbfc', '772fb6bd-5461-4011-9ccf-a0792966371e', 'e7d2aa3a-b667-47b6-b872-0f15997831ca', 'c598e148-f8f0-4856-87ef-2bbd4fa13edc'], 'embeddings': None, 'documents': ['# B・BASF \\n\\nWe create chemistry\\n\\nTable of Contents\\nVitamin E Acetate Pharma\\nDate: 26 Jul 2024\\n$30777580$\\n® $=$ Registered trademark of BASF $\\\\quad{ }^{\\\\mathrm{TM}}=$ Trademark of BASF\\n\\n## Table of Contents\\n\\nDear customer, based on your request we send you information about the product Vitamin E Acetate Pharma:\\n\\nElemental Impurities Data (ICH Q3D) - Statements (en)\\n\\n# EI-BASF \\n\\nWe create chemistry\\n\\n## Vitamin E Acetate Pharma\\n\\n## Elemental Impurities Data (ICH Q3D)', \"Elemental Impurities Data (ICH Q3D) - Statements (en)\\n\\n# EI-BASF \\n\\nWe create chemistry\\n\\n## Vitamin E Acetate Pharma\\n\\n## Elemental Impurities Data (ICH Q3D)\\n\\nDear Sir / Madam,\\nBASF is pleased to provide the attached elemental impurity information including data on three individual, commercial production batches in analogy to the ICH Q3D approach. In order to fulfill your need for excellence in customer support, BASF has chosen to invest significant resources into screening and validating of analytical methods for all ICH Q3D elements in class 1, 2A, and 3. Any class 2B elements which are intentionally added in BASF's manufacturing process are tested as well. All data were obtained via a validated ICP-MS method.\", \"The attached analytical report is intended to support your risk assessment and control strategy for the concerned finished drug product. In certain cases, this data could enable the use of a component approach to testing, although ICH Q3D places the responsibility of obtaining elemental impurity data on finished product manufactures - not API or excipient suppliers.\\n\\nWe are convinced that our elemental impurity information provides a significant added-value and again demonstrates BASF's commitment to being a leading supplier to the pharma industry.\\nWe sincerely appreciate your business and look forward to continuing to service your needs in the future.\\n\\n# Vitamin E Acetate Pharma \\n\\n## RegXcellence ${ }^{\\\\circledR}$\\n\\nPRD-No.: 30777580\\nElemental Impurities Data (ICH Q3D)\", '| Element <br> (Method: ICP-MS) | Class | Batch <br> 01251929U0 | Batch <br> 26093247G0 | Batch <br> 35048209T0 |  |\\n| :--: | :--: | :--: | :--: | :--: | :--: |\\n| BASF contract no.: |  | 22P00058 | 22P00058 | 22P00250 |  |\\n| Cadmium | Cd | 1 | $<0.05$ | $<0.05$ | $<0.05$ |\\n| Lead | Pb | 1 | $<0.05$ | $<0.05$ | $<0.05$ |\\n| Arsenic | As | 1 | $<0.05$ | $<0.05$ | $<0.05$ |\\n| Mercury | Hg | 1 | $<0.05$ | $<0.05$ | $<0.05$ |\\n| Cobalt | Co | 2A | $<0.05$ | $<0.05$ | $<0.05$ |\\n| Vanadium | V | 2A | $<0.05$ | $<0.05$ | $<0.05$ |\\n| Nickel | Ni | 2A | 0.08 | $<0.05$ | 0.10 |\\n| Thallium | TI | 2B | not measured | not measured | not measured |\\n| Gold | Au | 2B | not measured | not measured | not measured |\\n| Palladium | Pd | 2B | not measured | not measured | not measured |\\n| Iridium | Ir | 2B | not measured | not measured | not measured |\\n| Osmium | Os | 2B | not measured | not measured | not measured |\\n| Rhodium | Rh | 2B | not measured | not measured | not measured |', '| Iridium | Ir | 2B | not measured | not measured | not measured |\\n| Osmium | Os | 2B | not measured | not measured | not measured |\\n| Rhodium | Rh | 2B | not measured | not measured | not measured |\\n| Ruthenium | Ru | 2B | not measured | not measured | not measured |\\n| Selenium | Se | 2B | not measured | not measured | not measured |\\n| Silver | Ag | 2B | not measured | not measured | not measured |\\n| Platinum | Pt | 2B | not measured | not measured | not measured |\\n| Lithium | Li | 3 | $<0.3$ | $<0.3$ | $<0.3$ |\\n| Antimony | Sb | 3 | $<0.3$ | $<0.3$ | $<0.3$ |\\n| Barium | Ba | 3 | $<0.3$ | $<0.3$ | $<0.3$ |\\n| Molybdenum | Mo | 3 | $<0.05$ | $<0.05$ | $<0.05$ |\\n| Copper | Cu | 3 | $<0.3$ | $<0.3$ | $<0.3$ |\\n| Tin | Sn | 3 | $<0.3$ | $<0.3$ | $<0.3$ |\\n| Chromium | Cr | 3 | $<0.05$ | $<0.05$ | $<0.05$ |', '[^0]\\n[^0]:    Stating a less-than (<) sign indicates less-than (<) LOQ\\n    The indication \"not measured\" means that no testing was performed as the element is not intentionally added in BASF\\'s manufacturing process\\n\\n# 11. BASF \\n\\nWe create chemistry\\n\\n## Vitamin E Acetate Pharma\\n\\nThe concentration of the tested elements in Vitamin E Acetate Pharma were below the parenteral concentration limit indicated in Table A.2.2 of ICH Q3D. Please note that references are explicitly made to the concentration limit and does not automatically imply that the product is intended for parenteral use.\\n\\nPlease note that no elements of Table A.2.2 of the aforementioned guideline have been intentionally added in BASF\\'s manufacturing process of Vitamin E Acetate Pharma.\\n\\nWe ensure compliance of our pharmaceutical ingredients with all relevant regulatory requirements for metal impurities such as current versions of applicable pharmacopeias.\\n\\n# 11. BASF \\n\\nWe create chemistry\\n\\n## Vitamin E Acetate Pharma', '# 11. BASF \\n\\nWe create chemistry\\n\\n## Vitamin E Acetate Pharma\\n\\nPRD-No.: 30777580\\nElemental Impurities Data (ICH Q3D)', 'This document, or any information provided herein does not constitute a legally binding obligation of BASF and has been prepared in good faith and is believed to be accurate as of the date of issuance. Unless expressly agreed otherwise in writing in a supply contract or other written agreement between you and BASF:', \"(a) To the fullest extent not prohibited by the applicable laws, BASF EXPRESSLY DISCLAIMS ALL OTHER REPRESENTATIONS, WARRANTIES, CONDITIONS OR GUARANTEES OF ANY KIND, WHETHER EXPRESS OR IMPLIED, WRITTEN OR ORAL, BY FACT OR LAW, INCLUDING ANY IMPLIED WARRANTIES, REPRESENTATIONS OR CONDITIONS OF MERCHANTABILITY, FITNESS FOR A PARTICULAR PURPOSE, SATISFACTORY QUALITY, NON-INFRINGEMENT, AND ANY REPRESENTATIONS, WARRANTIES, CONDITIONS OR GUARANTEES, ARISING FROM STATUTE, COURSE OF DEALING OR USAGE OF TRADE and BASF HEREBY EXPRESSLY EXCLUDES AND DISCLAIMS ANY LIABILITY RESULTING FROM OR IN CONNECTION WITH THIS DOCUMENT OR ANY INFORMATION PROVIDED HEREIN, including, without limitation, any liability for any direct, consequential, special, or punitive damages relating to or arising therefrom, except in cases of\\n(i) death or personal injury to the extent caused by BASF's sole negligence,\\n(ii) BASF's willful misconduct, fraud or fraudulent misrepresentation or\", \"(i) death or personal injury to the extent caused by BASF's sole negligence,\\n(ii) BASF's willful misconduct, fraud or fraudulent misrepresentation or\\n(iii) any matter in respect of which it would be unlawful for BASF to exclude or restrict liability under the applicable laws;\\n(b) Any information provided herein can be changed at BASF's sole discretion anytime and neither this document nor the information provided herein may be relied upon to satisfy from any and all obligations you may have to undertake your own inspections and evaluations;\\n(c) BASF rejects any obligation to, and will not, automatically update this document and any information provided herein, unless required by applicable law; and\\n(d) The user is responsible for confirming that the user has retrieved the most current version of this document from BASF as appropriate\"], 'uris': None, 'included': ['documents'], 'data': None, 'metadatas': None}\n"
     ]
    }
   ],
   "source": [
    "results = vector_store.get(include=[\"documents\"])\n",
    "print(results)\n"
   ]
  },
  {
   "cell_type": "code",
   "execution_count": 23,
   "id": "bdb9e58b",
   "metadata": {},
   "outputs": [],
   "source": [
    "# 2. retrieval\n",
    "\n",
    "retriever = vector_store.as_retriever(search_type=\"similarity\", search_kwargs={\"k\": 4})"
   ]
  },
  {
   "cell_type": "code",
   "execution_count": 24,
   "id": "87a5bc7a",
   "metadata": {},
   "outputs": [
    {
     "data": {
      "text/plain": [
       "VectorStoreRetriever(tags=['Chroma', 'GoogleGenerativeAIEmbeddings'], vectorstore=<langchain_community.vectorstores.chroma.Chroma object at 0x124ce59a0>, search_kwargs={'k': 4})"
      ]
     },
     "execution_count": 24,
     "metadata": {},
     "output_type": "execute_result"
    }
   ],
   "source": [
    "retriever"
   ]
  },
  {
   "cell_type": "code",
   "execution_count": 25,
   "id": "bb7a10bb",
   "metadata": {},
   "outputs": [
    {
     "data": {
      "text/plain": [
       "[Document(metadata={}, page_content=\"(i) death or personal injury to the extent caused by BASF's sole negligence,\\n(ii) BASF's willful misconduct, fraud or fraudulent misrepresentation or\\n(iii) any matter in respect of which it would be unlawful for BASF to exclude or restrict liability under the applicable laws;\\n(b) Any information provided herein can be changed at BASF's sole discretion anytime and neither this document nor the information provided herein may be relied upon to satisfy from any and all obligations you may have to undertake your own inspections and evaluations;\\n(c) BASF rejects any obligation to, and will not, automatically update this document and any information provided herein, unless required by applicable law; and\\n(d) The user is responsible for confirming that the user has retrieved the most current version of this document from BASF as appropriate\"),\n",
       " Document(metadata={}, page_content='This document, or any information provided herein does not constitute a legally binding obligation of BASF and has been prepared in good faith and is believed to be accurate as of the date of issuance. Unless expressly agreed otherwise in writing in a supply contract or other written agreement between you and BASF:'),\n",
       " Document(metadata={}, page_content=\"(a) To the fullest extent not prohibited by the applicable laws, BASF EXPRESSLY DISCLAIMS ALL OTHER REPRESENTATIONS, WARRANTIES, CONDITIONS OR GUARANTEES OF ANY KIND, WHETHER EXPRESS OR IMPLIED, WRITTEN OR ORAL, BY FACT OR LAW, INCLUDING ANY IMPLIED WARRANTIES, REPRESENTATIONS OR CONDITIONS OF MERCHANTABILITY, FITNESS FOR A PARTICULAR PURPOSE, SATISFACTORY QUALITY, NON-INFRINGEMENT, AND ANY REPRESENTATIONS, WARRANTIES, CONDITIONS OR GUARANTEES, ARISING FROM STATUTE, COURSE OF DEALING OR USAGE OF TRADE and BASF HEREBY EXPRESSLY EXCLUDES AND DISCLAIMS ANY LIABILITY RESULTING FROM OR IN CONNECTION WITH THIS DOCUMENT OR ANY INFORMATION PROVIDED HEREIN, including, without limitation, any liability for any direct, consequential, special, or punitive damages relating to or arising therefrom, except in cases of\\n(i) death or personal injury to the extent caused by BASF's sole negligence,\\n(ii) BASF's willful misconduct, fraud or fraudulent misrepresentation or\"),\n",
       " Document(metadata={}, page_content=\"The attached analytical report is intended to support your risk assessment and control strategy for the concerned finished drug product. In certain cases, this data could enable the use of a component approach to testing, although ICH Q3D places the responsibility of obtaining elemental impurity data on finished product manufactures - not API or excipient suppliers.\\n\\nWe are convinced that our elemental impurity information provides a significant added-value and again demonstrates BASF's commitment to being a leading supplier to the pharma industry.\\nWe sincerely appreciate your business and look forward to continuing to service your needs in the future.\\n\\n# Vitamin E Acetate Pharma \\n\\n## RegXcellence ${ }^{\\\\circledR}$\\n\\nPRD-No.: 30777580\\nElemental Impurities Data (ICH Q3D)\")]"
      ]
     },
     "execution_count": 25,
     "metadata": {},
     "output_type": "execute_result"
    }
   ],
   "source": [
    "retriever.invoke('summarise the text')"
   ]
  },
  {
   "cell_type": "code",
   "execution_count": 26,
   "id": "6aa08bf8",
   "metadata": {},
   "outputs": [],
   "source": [
    "# 3. augemnted generation\n",
    "\n",
    "prompt = PromptTemplate(\n",
    "    template=\"\"\"\n",
    "      You are a helpful assistant.\n",
    "      Answer ONLY from the provided context.\n",
    "      If the context is insufficient, just say you don't know.\n",
    "\n",
    "      {context}\n",
    "      Question: {question}\n",
    "    \"\"\",\n",
    "    input_variables = ['context', 'question']\n",
    ")"
   ]
  },
  {
   "cell_type": "code",
   "execution_count": 27,
   "id": "1f2b0ac1",
   "metadata": {},
   "outputs": [],
   "source": [
    "question          = \"what values Chromium are mention in the text?\"\n",
    "retrieved_docs    = retriever.invoke(question)"
   ]
  },
  {
   "cell_type": "code",
   "execution_count": 28,
   "id": "21a964b8",
   "metadata": {},
   "outputs": [
    {
     "data": {
      "text/plain": [
       "[Document(metadata={}, page_content='| Iridium | Ir | 2B | not measured | not measured | not measured |\\n| Osmium | Os | 2B | not measured | not measured | not measured |\\n| Rhodium | Rh | 2B | not measured | not measured | not measured |\\n| Ruthenium | Ru | 2B | not measured | not measured | not measured |\\n| Selenium | Se | 2B | not measured | not measured | not measured |\\n| Silver | Ag | 2B | not measured | not measured | not measured |\\n| Platinum | Pt | 2B | not measured | not measured | not measured |\\n| Lithium | Li | 3 | $<0.3$ | $<0.3$ | $<0.3$ |\\n| Antimony | Sb | 3 | $<0.3$ | $<0.3$ | $<0.3$ |\\n| Barium | Ba | 3 | $<0.3$ | $<0.3$ | $<0.3$ |\\n| Molybdenum | Mo | 3 | $<0.05$ | $<0.05$ | $<0.05$ |\\n| Copper | Cu | 3 | $<0.3$ | $<0.3$ | $<0.3$ |\\n| Tin | Sn | 3 | $<0.3$ | $<0.3$ | $<0.3$ |\\n| Chromium | Cr | 3 | $<0.05$ | $<0.05$ | $<0.05$ |'),\n",
       " Document(metadata={}, page_content='| Element <br> (Method: ICP-MS) | Class | Batch <br> 01251929U0 | Batch <br> 26093247G0 | Batch <br> 35048209T0 |  |\\n| :--: | :--: | :--: | :--: | :--: | :--: |\\n| BASF contract no.: |  | 22P00058 | 22P00058 | 22P00250 |  |\\n| Cadmium | Cd | 1 | $<0.05$ | $<0.05$ | $<0.05$ |\\n| Lead | Pb | 1 | $<0.05$ | $<0.05$ | $<0.05$ |\\n| Arsenic | As | 1 | $<0.05$ | $<0.05$ | $<0.05$ |\\n| Mercury | Hg | 1 | $<0.05$ | $<0.05$ | $<0.05$ |\\n| Cobalt | Co | 2A | $<0.05$ | $<0.05$ | $<0.05$ |\\n| Vanadium | V | 2A | $<0.05$ | $<0.05$ | $<0.05$ |\\n| Nickel | Ni | 2A | 0.08 | $<0.05$ | 0.10 |\\n| Thallium | TI | 2B | not measured | not measured | not measured |\\n| Gold | Au | 2B | not measured | not measured | not measured |\\n| Palladium | Pd | 2B | not measured | not measured | not measured |\\n| Iridium | Ir | 2B | not measured | not measured | not measured |\\n| Osmium | Os | 2B | not measured | not measured | not measured |\\n| Rhodium | Rh | 2B | not measured | not measured | not measured |'),\n",
       " Document(metadata={}, page_content=\"Elemental Impurities Data (ICH Q3D) - Statements (en)\\n\\n# EI-BASF \\n\\nWe create chemistry\\n\\n## Vitamin E Acetate Pharma\\n\\n## Elemental Impurities Data (ICH Q3D)\\n\\nDear Sir / Madam,\\nBASF is pleased to provide the attached elemental impurity information including data on three individual, commercial production batches in analogy to the ICH Q3D approach. In order to fulfill your need for excellence in customer support, BASF has chosen to invest significant resources into screening and validating of analytical methods for all ICH Q3D elements in class 1, 2A, and 3. Any class 2B elements which are intentionally added in BASF's manufacturing process are tested as well. All data were obtained via a validated ICP-MS method.\"),\n",
       " Document(metadata={}, page_content='# 11. BASF \\n\\nWe create chemistry\\n\\n## Vitamin E Acetate Pharma\\n\\nPRD-No.: 30777580\\nElemental Impurities Data (ICH Q3D)')]"
      ]
     },
     "execution_count": 28,
     "metadata": {},
     "output_type": "execute_result"
    }
   ],
   "source": [
    "retrieved_docs"
   ]
  },
  {
   "cell_type": "code",
   "execution_count": 29,
   "id": "da734742",
   "metadata": {},
   "outputs": [
    {
     "data": {
      "text/plain": [
       "\"| Iridium | Ir | 2B | not measured | not measured | not measured |\\n| Osmium | Os | 2B | not measured | not measured | not measured |\\n| Rhodium | Rh | 2B | not measured | not measured | not measured |\\n| Ruthenium | Ru | 2B | not measured | not measured | not measured |\\n| Selenium | Se | 2B | not measured | not measured | not measured |\\n| Silver | Ag | 2B | not measured | not measured | not measured |\\n| Platinum | Pt | 2B | not measured | not measured | not measured |\\n| Lithium | Li | 3 | $<0.3$ | $<0.3$ | $<0.3$ |\\n| Antimony | Sb | 3 | $<0.3$ | $<0.3$ | $<0.3$ |\\n| Barium | Ba | 3 | $<0.3$ | $<0.3$ | $<0.3$ |\\n| Molybdenum | Mo | 3 | $<0.05$ | $<0.05$ | $<0.05$ |\\n| Copper | Cu | 3 | $<0.3$ | $<0.3$ | $<0.3$ |\\n| Tin | Sn | 3 | $<0.3$ | $<0.3$ | $<0.3$ |\\n| Chromium | Cr | 3 | $<0.05$ | $<0.05$ | $<0.05$ |\\n\\n| Element <br> (Method: ICP-MS) | Class | Batch <br> 01251929U0 | Batch <br> 26093247G0 | Batch <br> 35048209T0 |  |\\n| :--: | :--: | :--: | :--: | :--: | :--: |\\n| BASF contract no.: |  | 22P00058 | 22P00058 | 22P00250 |  |\\n| Cadmium | Cd | 1 | $<0.05$ | $<0.05$ | $<0.05$ |\\n| Lead | Pb | 1 | $<0.05$ | $<0.05$ | $<0.05$ |\\n| Arsenic | As | 1 | $<0.05$ | $<0.05$ | $<0.05$ |\\n| Mercury | Hg | 1 | $<0.05$ | $<0.05$ | $<0.05$ |\\n| Cobalt | Co | 2A | $<0.05$ | $<0.05$ | $<0.05$ |\\n| Vanadium | V | 2A | $<0.05$ | $<0.05$ | $<0.05$ |\\n| Nickel | Ni | 2A | 0.08 | $<0.05$ | 0.10 |\\n| Thallium | TI | 2B | not measured | not measured | not measured |\\n| Gold | Au | 2B | not measured | not measured | not measured |\\n| Palladium | Pd | 2B | not measured | not measured | not measured |\\n| Iridium | Ir | 2B | not measured | not measured | not measured |\\n| Osmium | Os | 2B | not measured | not measured | not measured |\\n| Rhodium | Rh | 2B | not measured | not measured | not measured |\\n\\nElemental Impurities Data (ICH Q3D) - Statements (en)\\n\\n# EI-BASF \\n\\nWe create chemistry\\n\\n## Vitamin E Acetate Pharma\\n\\n## Elemental Impurities Data (ICH Q3D)\\n\\nDear Sir / Madam,\\nBASF is pleased to provide the attached elemental impurity information including data on three individual, commercial production batches in analogy to the ICH Q3D approach. In order to fulfill your need for excellence in customer support, BASF has chosen to invest significant resources into screening and validating of analytical methods for all ICH Q3D elements in class 1, 2A, and 3. Any class 2B elements which are intentionally added in BASF's manufacturing process are tested as well. All data were obtained via a validated ICP-MS method.\\n\\n# 11. BASF \\n\\nWe create chemistry\\n\\n## Vitamin E Acetate Pharma\\n\\nPRD-No.: 30777580\\nElemental Impurities Data (ICH Q3D)\""
      ]
     },
     "execution_count": 29,
     "metadata": {},
     "output_type": "execute_result"
    }
   ],
   "source": [
    "context_text = \"\\n\\n\".join(doc.page_content for doc in retrieved_docs)\n",
    "context_text"
   ]
  },
  {
   "cell_type": "code",
   "execution_count": 30,
   "id": "4f65cf52",
   "metadata": {},
   "outputs": [],
   "source": [
    "final_prompt = prompt.invoke({\"context\": context_text, \"question\": question})"
   ]
  },
  {
   "cell_type": "code",
   "execution_count": 31,
   "id": "53e2a264",
   "metadata": {},
   "outputs": [
    {
     "data": {
      "text/plain": [
       "StringPromptValue(text=\"\\n      You are a helpful assistant.\\n      Answer ONLY from the provided context.\\n      If the context is insufficient, just say you don't know.\\n\\n      | Iridium | Ir | 2B | not measured | not measured | not measured |\\n| Osmium | Os | 2B | not measured | not measured | not measured |\\n| Rhodium | Rh | 2B | not measured | not measured | not measured |\\n| Ruthenium | Ru | 2B | not measured | not measured | not measured |\\n| Selenium | Se | 2B | not measured | not measured | not measured |\\n| Silver | Ag | 2B | not measured | not measured | not measured |\\n| Platinum | Pt | 2B | not measured | not measured | not measured |\\n| Lithium | Li | 3 | $<0.3$ | $<0.3$ | $<0.3$ |\\n| Antimony | Sb | 3 | $<0.3$ | $<0.3$ | $<0.3$ |\\n| Barium | Ba | 3 | $<0.3$ | $<0.3$ | $<0.3$ |\\n| Molybdenum | Mo | 3 | $<0.05$ | $<0.05$ | $<0.05$ |\\n| Copper | Cu | 3 | $<0.3$ | $<0.3$ | $<0.3$ |\\n| Tin | Sn | 3 | $<0.3$ | $<0.3$ | $<0.3$ |\\n| Chromium | Cr | 3 | $<0.05$ | $<0.05$ | $<0.05$ |\\n\\n| Element <br> (Method: ICP-MS) | Class | Batch <br> 01251929U0 | Batch <br> 26093247G0 | Batch <br> 35048209T0 |  |\\n| :--: | :--: | :--: | :--: | :--: | :--: |\\n| BASF contract no.: |  | 22P00058 | 22P00058 | 22P00250 |  |\\n| Cadmium | Cd | 1 | $<0.05$ | $<0.05$ | $<0.05$ |\\n| Lead | Pb | 1 | $<0.05$ | $<0.05$ | $<0.05$ |\\n| Arsenic | As | 1 | $<0.05$ | $<0.05$ | $<0.05$ |\\n| Mercury | Hg | 1 | $<0.05$ | $<0.05$ | $<0.05$ |\\n| Cobalt | Co | 2A | $<0.05$ | $<0.05$ | $<0.05$ |\\n| Vanadium | V | 2A | $<0.05$ | $<0.05$ | $<0.05$ |\\n| Nickel | Ni | 2A | 0.08 | $<0.05$ | 0.10 |\\n| Thallium | TI | 2B | not measured | not measured | not measured |\\n| Gold | Au | 2B | not measured | not measured | not measured |\\n| Palladium | Pd | 2B | not measured | not measured | not measured |\\n| Iridium | Ir | 2B | not measured | not measured | not measured |\\n| Osmium | Os | 2B | not measured | not measured | not measured |\\n| Rhodium | Rh | 2B | not measured | not measured | not measured |\\n\\nElemental Impurities Data (ICH Q3D) - Statements (en)\\n\\n# EI-BASF \\n\\nWe create chemistry\\n\\n## Vitamin E Acetate Pharma\\n\\n## Elemental Impurities Data (ICH Q3D)\\n\\nDear Sir / Madam,\\nBASF is pleased to provide the attached elemental impurity information including data on three individual, commercial production batches in analogy to the ICH Q3D approach. In order to fulfill your need for excellence in customer support, BASF has chosen to invest significant resources into screening and validating of analytical methods for all ICH Q3D elements in class 1, 2A, and 3. Any class 2B elements which are intentionally added in BASF's manufacturing process are tested as well. All data were obtained via a validated ICP-MS method.\\n\\n# 11. BASF \\n\\nWe create chemistry\\n\\n## Vitamin E Acetate Pharma\\n\\nPRD-No.: 30777580\\nElemental Impurities Data (ICH Q3D)\\n      Question: what values Chromium are mention in the text?\\n    \")"
      ]
     },
     "execution_count": 31,
     "metadata": {},
     "output_type": "execute_result"
    }
   ],
   "source": [
    "final_prompt"
   ]
  },
  {
   "cell_type": "code",
   "execution_count": 32,
   "id": "02e08e67",
   "metadata": {},
   "outputs": [
    {
     "name": "stdout",
     "output_type": "stream",
     "text": [
      "content='Chromium:\\n$<0.05$\\n$<0.05$\\n$<0.05$' additional_kwargs={} response_metadata={'prompt_feedback': {'block_reason': 0, 'safety_ratings': []}, 'finish_reason': 'STOP', 'model_name': 'models/gemini-2.5-flash-preview-05-20', 'safety_ratings': []} id='run-8f189362-263a-4cdd-9914-fb699f4fd2ea-0' usage_metadata={'input_tokens': 1058, 'output_tokens': 24, 'total_tokens': 1133, 'input_token_details': {'cache_read': 0}}\n"
     ]
    }
   ],
   "source": [
    "# generation\n",
    "response = llm.invoke(final_prompt)\n",
    "print(response)"
   ]
  },
  {
   "cell_type": "code",
   "execution_count": 33,
   "id": "0fb96d5e",
   "metadata": {},
   "outputs": [],
   "source": [
    "# building the chains\n",
    "\n",
    "from langchain_core.runnables import RunnableParallel, RunnablePassthrough, RunnableLambda\n",
    "from langchain_core.output_parsers import StrOutputParser"
   ]
  },
  {
   "cell_type": "code",
   "execution_count": 34,
   "id": "3a70a439",
   "metadata": {},
   "outputs": [],
   "source": [
    "def format_docs(retrieved_docs):\n",
    "  context_text = \"\\n\\n\".join(doc.page_content for doc in retrieved_docs)\n",
    "  return context_text"
   ]
  },
  {
   "cell_type": "code",
   "execution_count": 35,
   "id": "4cc11fd1",
   "metadata": {},
   "outputs": [],
   "source": [
    "parallel_chain = RunnableParallel({\n",
    "    'context': retriever | RunnableLambda(format_docs),\n",
    "    'question': RunnablePassthrough()\n",
    "})"
   ]
  },
  {
   "cell_type": "code",
   "execution_count": 37,
   "id": "0c8c48d9",
   "metadata": {},
   "outputs": [
    {
     "data": {
      "text/plain": [
       "{'context': \"| Iridium | Ir | 2B | not measured | not measured | not measured |\\n| Osmium | Os | 2B | not measured | not measured | not measured |\\n| Rhodium | Rh | 2B | not measured | not measured | not measured |\\n| Ruthenium | Ru | 2B | not measured | not measured | not measured |\\n| Selenium | Se | 2B | not measured | not measured | not measured |\\n| Silver | Ag | 2B | not measured | not measured | not measured |\\n| Platinum | Pt | 2B | not measured | not measured | not measured |\\n| Lithium | Li | 3 | $<0.3$ | $<0.3$ | $<0.3$ |\\n| Antimony | Sb | 3 | $<0.3$ | $<0.3$ | $<0.3$ |\\n| Barium | Ba | 3 | $<0.3$ | $<0.3$ | $<0.3$ |\\n| Molybdenum | Mo | 3 | $<0.05$ | $<0.05$ | $<0.05$ |\\n| Copper | Cu | 3 | $<0.3$ | $<0.3$ | $<0.3$ |\\n| Tin | Sn | 3 | $<0.3$ | $<0.3$ | $<0.3$ |\\n| Chromium | Cr | 3 | $<0.05$ | $<0.05$ | $<0.05$ |\\n\\n| Element <br> (Method: ICP-MS) | Class | Batch <br> 01251929U0 | Batch <br> 26093247G0 | Batch <br> 35048209T0 |  |\\n| :--: | :--: | :--: | :--: | :--: | :--: |\\n| BASF contract no.: |  | 22P00058 | 22P00058 | 22P00250 |  |\\n| Cadmium | Cd | 1 | $<0.05$ | $<0.05$ | $<0.05$ |\\n| Lead | Pb | 1 | $<0.05$ | $<0.05$ | $<0.05$ |\\n| Arsenic | As | 1 | $<0.05$ | $<0.05$ | $<0.05$ |\\n| Mercury | Hg | 1 | $<0.05$ | $<0.05$ | $<0.05$ |\\n| Cobalt | Co | 2A | $<0.05$ | $<0.05$ | $<0.05$ |\\n| Vanadium | V | 2A | $<0.05$ | $<0.05$ | $<0.05$ |\\n| Nickel | Ni | 2A | 0.08 | $<0.05$ | 0.10 |\\n| Thallium | TI | 2B | not measured | not measured | not measured |\\n| Gold | Au | 2B | not measured | not measured | not measured |\\n| Palladium | Pd | 2B | not measured | not measured | not measured |\\n| Iridium | Ir | 2B | not measured | not measured | not measured |\\n| Osmium | Os | 2B | not measured | not measured | not measured |\\n| Rhodium | Rh | 2B | not measured | not measured | not measured |\\n\\nElemental Impurities Data (ICH Q3D) - Statements (en)\\n\\n# EI-BASF \\n\\nWe create chemistry\\n\\n## Vitamin E Acetate Pharma\\n\\n## Elemental Impurities Data (ICH Q3D)\\n\\nDear Sir / Madam,\\nBASF is pleased to provide the attached elemental impurity information including data on three individual, commercial production batches in analogy to the ICH Q3D approach. In order to fulfill your need for excellence in customer support, BASF has chosen to invest significant resources into screening and validating of analytical methods for all ICH Q3D elements in class 1, 2A, and 3. Any class 2B elements which are intentionally added in BASF's manufacturing process are tested as well. All data were obtained via a validated ICP-MS method.\\n\\n# 11. BASF \\n\\nWe create chemistry\\n\\n## Vitamin E Acetate Pharma\\n\\nPRD-No.: 30777580\\nElemental Impurities Data (ICH Q3D)\",\n",
       " 'question': 'who values of tin are mention in the text?'}"
      ]
     },
     "execution_count": 37,
     "metadata": {},
     "output_type": "execute_result"
    }
   ],
   "source": [
    "parallel_chain.invoke('who values of tin are mention in the text?')"
   ]
  },
  {
   "cell_type": "code",
   "execution_count": 38,
   "id": "dcdcffc4",
   "metadata": {},
   "outputs": [],
   "source": [
    "parser = StrOutputParser()"
   ]
  },
  {
   "cell_type": "code",
   "execution_count": 39,
   "id": "d05a7e49",
   "metadata": {},
   "outputs": [],
   "source": [
    "main_chain = parallel_chain | prompt | llm | parser"
   ]
  },
  {
   "cell_type": "code",
   "execution_count": 40,
   "id": "84b74e38",
   "metadata": {},
   "outputs": [
    {
     "data": {
      "text/plain": [
       "'The values of tin are $<0.3$, $<0.3$, and $<0.3$.'"
      ]
     },
     "execution_count": 40,
     "metadata": {},
     "output_type": "execute_result"
    }
   ],
   "source": [
    "main_chain.invoke('who values of tin are mention in the text?')"
   ]
  },
  {
   "cell_type": "code",
   "execution_count": null,
   "id": "f941757f",
   "metadata": {},
   "outputs": [],
   "source": []
  }
 ],
 "metadata": {
  "kernelspec": {
   "display_name": "base",
   "language": "python",
   "name": "python3"
  },
  "language_info": {
   "codemirror_mode": {
    "name": "ipython",
    "version": 3
   },
   "file_extension": ".py",
   "mimetype": "text/x-python",
   "name": "python",
   "nbconvert_exporter": "python",
   "pygments_lexer": "ipython3",
   "version": "3.12.4"
  }
 },
 "nbformat": 4,
 "nbformat_minor": 5
}
